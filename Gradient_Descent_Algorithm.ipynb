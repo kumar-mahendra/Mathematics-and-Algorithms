{
  "nbformat": 4,
  "nbformat_minor": 0,
  "metadata": {
    "colab": {
      "name": "Gradient_Descent_Algorithm.ipynb",
      "provenance": [],
      "collapsed_sections": [],
      "authorship_tag": "ABX9TyO+HOjQL93lHzSOV4+YowSw",
      "include_colab_link": true
    },
    "kernelspec": {
      "name": "python3",
      "display_name": "Python 3"
    },
    "language_info": {
      "name": "python"
    }
  },
  "cells": [
    {
      "cell_type": "markdown",
      "metadata": {
        "id": "view-in-github",
        "colab_type": "text"
      },
      "source": [
        "<a href=\"https://colab.research.google.com/github/kumar-mahendra/Mathematics-and-Algorithms/blob/main/Gradient_Descent_Algorithm.ipynb\" target=\"_parent\"><img src=\"https://colab.research.google.com/assets/colab-badge.svg\" alt=\"Open In Colab\"/></a>"
      ]
    },
    {
      "cell_type": "markdown",
      "metadata": {
        "id": "GXeHC3ZhVKD_"
      },
      "source": [
        "## Gradient Descent Method with Example\n",
        "\n",
        "### **Author : Mahendra Kumar**"
      ]
    },
    {
      "cell_type": "markdown",
      "metadata": {
        "id": "2nC-VjrOZg-Q"
      },
      "source": [
        "## Import required libraries"
      ]
    },
    {
      "cell_type": "code",
      "metadata": {
        "id": "Jo-rHpz1JurR"
      },
      "source": [
        "import numpy as np\n",
        "import pandas as pd\n",
        "from sklearn.preprocessing import scale                # for normalization\n",
        "from sklearn.model_selection import train_test_split   # split data as train and test data\n",
        "from numpy.linalg import norm                          # to find euclidean norm\n",
        "import matplotlib.pyplot as plt"
      ],
      "execution_count": null,
      "outputs": []
    },
    {
      "cell_type": "markdown",
      "metadata": {
        "id": "RB9mY7oDJyic"
      },
      "source": [
        "## Boston Housing Price Prediction"
      ]
    },
    {
      "cell_type": "markdown",
      "metadata": {
        "id": "QElGWhQ2ZaGn"
      },
      "source": [
        "### Load data from UCI repository"
      ]
    },
    {
      "cell_type": "code",
      "metadata": {
        "id": "ZUC7lp61J1WC"
      },
      "source": [
        "\n",
        "col_names = ['CRIM', 'ZN', 'INDUS', 'CHAS', 'NOX', 'RM', 'AGE', 'DIS', 'RAD', 'TAX', 'PTRATIO', 'BLACK', 'LSTAT', 'MEDV']\n",
        "housing_data = pd.read_table(\"http://archive.ics.uci.edu/ml/machine-learning-databases/housing/housing.data\",delimiter=\"\\s+\", names=col_names)\n",
        "# boston_data.head()"
      ],
      "execution_count": null,
      "outputs": []
    },
    {
      "cell_type": "code",
      "metadata": {
        "id": "4MnXnBSeMeBI"
      },
      "source": [
        "\n",
        "X =  housing_data.iloc[:,:-1]    # Features \n",
        "Y =  housing_data.iloc[:, -1]    # Median Housing Prices (Dependent variable)"
      ],
      "execution_count": null,
      "outputs": []
    },
    {
      "cell_type": "markdown",
      "metadata": {
        "id": "vnewCUgSbYIU"
      },
      "source": [
        "#### Feature Scaling ( OR Normalization ) "
      ]
    },
    {
      "cell_type": "code",
      "metadata": {
        "id": "emOepkrpZecs"
      },
      "source": [
        "# Z-Score Normalization  \n",
        "\n",
        "# Let x denotes a  feature column then we set  z = (x-mean(x)/variance(x)) as\n",
        "# scaled feature having 0 mean and 1 standard deviation . \n",
        "\n",
        "scaled_housing_data =  scale(X)  # Standardize all Features "
      ],
      "execution_count": null,
      "outputs": []
    },
    {
      "cell_type": "markdown",
      "metadata": {
        "id": "eQ2nDu-lf26d"
      },
      "source": [
        "#### Traing-Test split"
      ]
    },
    {
      "cell_type": "code",
      "metadata": {
        "id": "MjFPdOl0f4xF"
      },
      "source": [
        "\n",
        "X_train, X_test, Y_train, Y_test =  train_test_split( scaled_housing_data , Y, test_size=0.1)\n",
        "\n",
        "IX_train=np.append(arr=np.ones((len(X_train),1)),values=X_train,axis=1)  # Adding column of 1's to the X_train matrix\n",
        "IX_test=np.append(arr=np.ones((len(X_test),1)),values=X_test,axis=1)     # Adding column of 1's to the X_test matrix\n"
      ],
      "execution_count": null,
      "outputs": []
    },
    {
      "cell_type": "markdown",
      "metadata": {
        "id": "AqlSeimwi74L"
      },
      "source": [
        "#### Training the model (Batch GDM)"
      ]
    },
    {
      "cell_type": "code",
      "metadata": {
        "colab": {
          "base_uri": "https://localhost:8080/"
        },
        "id": "pcb1Px_ZorWb",
        "outputId": "404c67c9-4ae9-4cb0-98b5-ed54bf23a21c"
      },
      "source": [
        "np.shape(X_train), np.shape(X_test), np.shape(I),  np.shape(Y_train), np.shape(Y_test)"
      ],
      "execution_count": null,
      "outputs": [
        {
          "output_type": "execute_result",
          "data": {
            "text/plain": [
              "((455, 13), (51, 13), (14, 14), (455,), (51,))"
            ]
          },
          "metadata": {
            "tags": []
          },
          "execution_count": 22
        }
      ]
    },
    {
      "cell_type": "code",
      "metadata": {
        "id": "mht3IoD2jJLO"
      },
      "source": [
        "# Let initial values be\n",
        "m,n = len(IX_train[0]), len(IX_train)\n",
        "epsilon=10**(-8)\n",
        "Tol = 10**(-6)\n",
        "MaxIter = 10**4\n",
        "I = np.eye(m,m)\n",
        "alpha = 0\n",
        "# The Gradient Descent Method (GDM) Implementation \n",
        "\n",
        "def train_model(IX_train,Y_train,epsilon,Tol,alpha_k,MaxIter) : \n",
        "\n",
        "    # initilaize theta\n",
        "    theta = np.ones((m,1))\n",
        "\n",
        "    AtA_plus_epsilon = np.dot( IX_train.T , IX_train )  + epsilon*I\n",
        "    btA = np.dot( Y_train.T , IX_train )\n",
        "        \n",
        "    \n",
        "    for k in range(MaxIter) : \n",
        "        \n",
        "        gradient = np.dot( theta.T , AtA_plus_epsilon ) - np.dot(Y_train.T, IX_train)\n",
        "        d_k = -gradient.T\n",
        "\n",
        "        if norm(d_k,ord=2) ==0  : \n",
        "            return alpha_k, theta1/(norm(np.dot( IX_train.T , IX_train ),ord='fro')  + epsilon)\n",
        "                          \n",
        "        theta_new =  theta + alpha_k * d_k \n",
        "\n",
        "        error_theta = norm( theta_new - theta , ord=2) \n",
        "\n",
        "        if error_theta < Tol : \n",
        "            return alpha_k,theta\n",
        "            \n",
        "        alpha_numerator = norm(d_k,ord=2)**2\n",
        "        alpha_denom =  np.dot( np.dot(d_k.T,AtA_plus_epsilon), d_k)[0,0]\n",
        "        alpha_k = alpha_numerator/ alpha_denom\n",
        "      \n",
        "        theta = theta_new"
      ],
      "execution_count": null,
      "outputs": []
    },
    {
      "cell_type": "code",
      "metadata": {
        "id": "YoSsAIH8jUpu"
      },
      "source": [
        "alpha,theta = train_model(IX_train,Y_train,epsilon,Tol,0.01,MaxIter)"
      ],
      "execution_count": null,
      "outputs": []
    },
    {
      "cell_type": "code",
      "metadata": {
        "id": "XNPF5jSNDfsL"
      },
      "source": [
        ""
      ],
      "execution_count": null,
      "outputs": []
    },
    {
      "cell_type": "markdown",
      "metadata": {
        "id": "D8SIkjVTqC-H"
      },
      "source": [
        "#### Computation of **theta** using normal equation"
      ]
    },
    {
      "cell_type": "code",
      "metadata": {
        "id": "JFc_G6wsqC-H"
      },
      "source": [
        "epsilon=10**(-8)\n",
        "B = np.dot(IX_train.T,IX_train)\n",
        "[m, m] = B.shape\n",
        "Theta = np.linalg.solve(B + epsilon*np.eye(m), np.dot(IX_train.T,Y_train)) ## "
      ],
      "execution_count": null,
      "outputs": []
    },
    {
      "cell_type": "code",
      "metadata": {
        "id": "QOLg1aUa7vpR"
      },
      "source": [
        ""
      ],
      "execution_count": null,
      "outputs": []
    },
    {
      "cell_type": "markdown",
      "metadata": {
        "id": "MDBUGYjH7x4u"
      },
      "source": [
        "#### Calculating Error in **theta** obtained i.e. **|| theta-Theta ||**\n",
        "\n",
        "---\n",
        "\n"
      ]
    },
    {
      "cell_type": "code",
      "metadata": {
        "colab": {
          "base_uri": "https://localhost:8080/"
        },
        "id": "RxdE5vTq7IyJ",
        "outputId": "89e9f9f6-bbc9-41e0-f533-dff6015a52fe"
      },
      "source": [
        "Theta = np.reshape(Theta,(len(theta),1))\n",
        "print(\"Error : \",np.linalg.norm(np.subtract(Theta,theta)))\n",
        "print(\"\\nTheta Obtained : \\n------------------\\n\", theta)"
      ],
      "execution_count": null,
      "outputs": [
        {
          "output_type": "stream",
          "text": [
            "Error :  4.3395219167924866e-06\n",
            "\n",
            "Theta Obtained : \n",
            "------------------\n",
            " [[ 2.24625852e+01]\n",
            " [-1.06935040e+00]\n",
            " [ 1.00931042e+00]\n",
            " [-5.90467662e-03]\n",
            " [ 6.53800045e-01]\n",
            " [-1.86905203e+00]\n",
            " [ 2.53291765e+00]\n",
            " [-1.68760291e-01]\n",
            " [-3.11301403e+00]\n",
            " [ 3.11746279e+00]\n",
            " [-2.38173597e+00]\n",
            " [-1.98876558e+00]\n",
            " [ 8.40713183e-01]\n",
            " [-3.82014692e+00]]\n"
          ],
          "name": "stdout"
        }
      ]
    },
    {
      "cell_type": "code",
      "metadata": {
        "id": "UAGLDTrQ6nwE"
      },
      "source": [
        ""
      ],
      "execution_count": null,
      "outputs": []
    },
    {
      "cell_type": "markdown",
      "metadata": {
        "id": "qY691iJlqC-H"
      },
      "source": [
        "#### Gradient descent by changing the alpha"
      ]
    },
    {
      "cell_type": "code",
      "metadata": {
        "id": "9arIeryAqC-I",
        "colab": {
          "base_uri": "https://localhost:8080/"
        },
        "outputId": "5a215e08-bda6-412f-a758-4a4be5a26044"
      },
      "source": [
        "alpha = 1/(norm(np.dot( IX_train.T , IX_train ),ord='fro')  + epsilon)\n",
        "new_alpha=alpha+(4*(10**(-4)))\n",
        "print(alpha)\n",
        "print(new_alpha)\n",
        "alpha,new_theta=train_model(IX_train,Y_train,epsilon, Tol, new_alpha, MaxIter)\n",
        "print(\"Error between old and new theta : \",np.linalg.norm(new_theta-theta,ord=2))"
      ],
      "execution_count": null,
      "outputs": [
        {
          "output_type": "stream",
          "text": [
            "0.0003348244503935269\n",
            "0.000734824450393527\n",
            "Error between old and new theta :  8.542665024280677e-06\n"
          ],
          "name": "stdout"
        }
      ]
    },
    {
      "cell_type": "code",
      "metadata": {
        "id": "rFHmucDsL7Ii"
      },
      "source": [
        ""
      ],
      "execution_count": null,
      "outputs": []
    },
    {
      "cell_type": "markdown",
      "metadata": {
        "id": "8pJiX1rzFh1Y"
      },
      "source": [
        "By Changing the alpha to old_alpha+(4x10**-4) , the new solution, i.e., the new_theta converges to the old_theta, i.e., both are almost equal. This makes sense as the gradient descent will finally leads to the unique local minima of loss function"
      ]
    },
    {
      "cell_type": "markdown",
      "metadata": {
        "id": "Amt5Sn00qC-I"
      },
      "source": [
        "### Testing the model"
      ]
    },
    {
      "cell_type": "code",
      "metadata": {
        "id": "1_aS_aqVqC-I"
      },
      "source": [
        "Predicted_Y_test=np.dot(IX_test,Theta)"
      ],
      "execution_count": null,
      "outputs": []
    },
    {
      "cell_type": "markdown",
      "metadata": {
        "id": "abYzcMh1qC-I"
      },
      "source": [
        "### Ploting"
      ]
    },
    {
      "cell_type": "code",
      "metadata": {
        "id": "QG2pPBMhqC-I",
        "colab": {
          "base_uri": "https://localhost:8080/",
          "height": 405
        },
        "outputId": "65a0042e-53ba-458b-9282-24dc41ca171e"
      },
      "source": [
        "plt.figure ( figsize=(10,6))\n",
        "x = np.arange(1,len(Y_test)+1)\n",
        "plt.plot(x,Y_test, '-*', color='blue',\n",
        "         markersize=12, linewidth=2,\n",
        "         markerfacecolor='blue',\n",
        "         markeredgecolor='blue',\n",
        "         markeredgewidth=1)\n",
        "plt.plot(x,Predicted_Y_test, '-o', color='red',\n",
        "         markersize=8, linewidth=2,\n",
        "         markerfacecolor='red',\n",
        "         markeredgecolor='red',\n",
        "         markeredgewidth=1)\n",
        "plt.xlim([ 0, len(Y_test)])\n",
        "plt.xlabel(\"Test Data Points\")\n",
        "plt.ylabel(\"Median house price\")\n",
        "plt.legend({'Predicted','Actual'})"
      ],
      "execution_count": null,
      "outputs": [
        {
          "output_type": "execute_result",
          "data": {
            "text/plain": [
              "<matplotlib.legend.Legend at 0x7f1707e37a10>"
            ]
          },
          "metadata": {
            "tags": []
          },
          "execution_count": 87
        },
        {
          "output_type": "display_data",
          "data": {
            "image/png": "[encoded data removed]",
            "text/plain": [
              "<Figure size 720x432 with 1 Axes>"
            ]
          },
          "metadata": {
            "tags": [],
            "needs_background": "light"
          }
        }
      ]
    },
    {
      "cell_type": "code",
      "metadata": {
        "id": "6F26jGrpIz_C"
      },
      "source": [
        ""
      ],
      "execution_count": null,
      "outputs": []
    }
  ]
}