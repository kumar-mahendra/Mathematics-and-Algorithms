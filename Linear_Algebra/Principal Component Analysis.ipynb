{
 "cells": [
  {
   "cell_type": "code",
   "execution_count": 113,
   "id": "6c9521b9",
   "metadata": {},
   "outputs": [],
   "source": [
    "# import required libraries \n",
    "import os\n",
    "import pandas as pd\n",
    "import numpy as np\n",
    "import warnings\n",
    "warnings.filterwarnings('ignore')\n",
    "import matplotlib.pyplot as plt"
   ]
  },
  {
   "cell_type": "code",
   "execution_count": 49,
   "id": "bc7b3fe4",
   "metadata": {},
   "outputs": [],
   "source": [
    "data = pd.DataFrame()\n",
    "stocks = os.listdir('stocks')[1:]\n",
    "for stock_name in stocks : \n",
    "    close_price_stock = pd.read_csv('stocks/'+stock_name)['close'].copy()\n",
    "    if (len(close_price_stock)>=1000):\n",
    "        data[ stock_name[:-4] ] = close_price_stock.values[:1000]\n",
    "    "
   ]
  },
  {
   "cell_type": "code",
   "execution_count": 50,
   "id": "21e2f3c6",
   "metadata": {},
   "outputs": [
    {
     "data": {
      "text/html": [
       "<div>\n",
       "<style scoped>\n",
       "    .dataframe tbody tr th:only-of-type {\n",
       "        vertical-align: middle;\n",
       "    }\n",
       "\n",
       "    .dataframe tbody tr th {\n",
       "        vertical-align: top;\n",
       "    }\n",
       "\n",
       "    .dataframe thead th {\n",
       "        text-align: right;\n",
       "    }\n",
       "</style>\n",
       "<table border=\"1\" class=\"dataframe\">\n",
       "  <thead>\n",
       "    <tr style=\"text-align: right;\">\n",
       "      <th></th>\n",
       "      <th>AAL_data</th>\n",
       "      <th>AAPL_data</th>\n",
       "      <th>AAP_data</th>\n",
       "      <th>ABBV_data</th>\n",
       "      <th>ABC_data</th>\n",
       "      <th>ABT_data</th>\n",
       "      <th>ACN_data</th>\n",
       "      <th>ADBE_data</th>\n",
       "      <th>ADI_data</th>\n",
       "      <th>ADM_data</th>\n",
       "      <th>...</th>\n",
       "      <th>XLNX_data</th>\n",
       "      <th>XL_data</th>\n",
       "      <th>XOM_data</th>\n",
       "      <th>XRAY_data</th>\n",
       "      <th>XRX_data</th>\n",
       "      <th>XYL_data</th>\n",
       "      <th>YUM_data</th>\n",
       "      <th>ZBH_data</th>\n",
       "      <th>ZION_data</th>\n",
       "      <th>ZTS_data</th>\n",
       "    </tr>\n",
       "  </thead>\n",
       "  <tbody>\n",
       "    <tr>\n",
       "      <th>0</th>\n",
       "      <td>14.75</td>\n",
       "      <td>67.8542</td>\n",
       "      <td>78.90</td>\n",
       "      <td>36.25</td>\n",
       "      <td>46.89</td>\n",
       "      <td>34.41</td>\n",
       "      <td>73.31</td>\n",
       "      <td>39.12</td>\n",
       "      <td>45.70</td>\n",
       "      <td>30.22</td>\n",
       "      <td>...</td>\n",
       "      <td>37.51</td>\n",
       "      <td>28.24</td>\n",
       "      <td>88.61</td>\n",
       "      <td>42.87</td>\n",
       "      <td>31.84</td>\n",
       "      <td>27.09</td>\n",
       "      <td>65.30</td>\n",
       "      <td>75.85</td>\n",
       "      <td>24.14</td>\n",
       "      <td>33.05</td>\n",
       "    </tr>\n",
       "    <tr>\n",
       "      <th>1</th>\n",
       "      <td>14.46</td>\n",
       "      <td>68.5614</td>\n",
       "      <td>78.39</td>\n",
       "      <td>35.85</td>\n",
       "      <td>46.76</td>\n",
       "      <td>34.26</td>\n",
       "      <td>73.07</td>\n",
       "      <td>38.64</td>\n",
       "      <td>46.08</td>\n",
       "      <td>30.28</td>\n",
       "      <td>...</td>\n",
       "      <td>37.46</td>\n",
       "      <td>28.31</td>\n",
       "      <td>88.28</td>\n",
       "      <td>42.84</td>\n",
       "      <td>31.96</td>\n",
       "      <td>27.46</td>\n",
       "      <td>64.55</td>\n",
       "      <td>75.65</td>\n",
       "      <td>24.21</td>\n",
       "      <td>33.26</td>\n",
       "    </tr>\n",
       "    <tr>\n",
       "      <th>2</th>\n",
       "      <td>14.27</td>\n",
       "      <td>66.8428</td>\n",
       "      <td>78.60</td>\n",
       "      <td>35.42</td>\n",
       "      <td>46.96</td>\n",
       "      <td>34.30</td>\n",
       "      <td>73.37</td>\n",
       "      <td>38.89</td>\n",
       "      <td>46.27</td>\n",
       "      <td>30.81</td>\n",
       "      <td>...</td>\n",
       "      <td>37.58</td>\n",
       "      <td>28.41</td>\n",
       "      <td>88.46</td>\n",
       "      <td>42.87</td>\n",
       "      <td>31.84</td>\n",
       "      <td>27.95</td>\n",
       "      <td>64.75</td>\n",
       "      <td>75.44</td>\n",
       "      <td>24.49</td>\n",
       "      <td>33.74</td>\n",
       "    </tr>\n",
       "    <tr>\n",
       "      <th>3</th>\n",
       "      <td>14.66</td>\n",
       "      <td>66.7156</td>\n",
       "      <td>78.97</td>\n",
       "      <td>35.27</td>\n",
       "      <td>46.64</td>\n",
       "      <td>34.46</td>\n",
       "      <td>73.56</td>\n",
       "      <td>38.81</td>\n",
       "      <td>46.26</td>\n",
       "      <td>31.16</td>\n",
       "      <td>...</td>\n",
       "      <td>37.80</td>\n",
       "      <td>28.42</td>\n",
       "      <td>88.67</td>\n",
       "      <td>43.08</td>\n",
       "      <td>32.00</td>\n",
       "      <td>28.26</td>\n",
       "      <td>64.41</td>\n",
       "      <td>76.00</td>\n",
       "      <td>24.74</td>\n",
       "      <td>33.55</td>\n",
       "    </tr>\n",
       "    <tr>\n",
       "      <th>4</th>\n",
       "      <td>13.99</td>\n",
       "      <td>66.6556</td>\n",
       "      <td>78.84</td>\n",
       "      <td>36.57</td>\n",
       "      <td>46.77</td>\n",
       "      <td>34.70</td>\n",
       "      <td>73.13</td>\n",
       "      <td>38.61</td>\n",
       "      <td>46.54</td>\n",
       "      <td>31.40</td>\n",
       "      <td>...</td>\n",
       "      <td>38.44</td>\n",
       "      <td>28.22</td>\n",
       "      <td>88.52</td>\n",
       "      <td>42.91</td>\n",
       "      <td>32.12</td>\n",
       "      <td>28.47</td>\n",
       "      <td>63.89</td>\n",
       "      <td>76.34</td>\n",
       "      <td>24.63</td>\n",
       "      <td>33.27</td>\n",
       "    </tr>\n",
       "  </tbody>\n",
       "</table>\n",
       "<p>5 rows × 483 columns</p>\n",
       "</div>"
      ],
      "text/plain": [
       "   AAL_data  AAPL_data  AAP_data  ABBV_data  ABC_data  ABT_data  ACN_data  \\\n",
       "0     14.75    67.8542     78.90      36.25     46.89     34.41     73.31   \n",
       "1     14.46    68.5614     78.39      35.85     46.76     34.26     73.07   \n",
       "2     14.27    66.8428     78.60      35.42     46.96     34.30     73.37   \n",
       "3     14.66    66.7156     78.97      35.27     46.64     34.46     73.56   \n",
       "4     13.99    66.6556     78.84      36.57     46.77     34.70     73.13   \n",
       "\n",
       "   ADBE_data  ADI_data  ADM_data  ...  XLNX_data  XL_data  XOM_data  \\\n",
       "0      39.12     45.70     30.22  ...      37.51    28.24     88.61   \n",
       "1      38.64     46.08     30.28  ...      37.46    28.31     88.28   \n",
       "2      38.89     46.27     30.81  ...      37.58    28.41     88.46   \n",
       "3      38.81     46.26     31.16  ...      37.80    28.42     88.67   \n",
       "4      38.61     46.54     31.40  ...      38.44    28.22     88.52   \n",
       "\n",
       "   XRAY_data  XRX_data  XYL_data  YUM_data  ZBH_data  ZION_data  ZTS_data  \n",
       "0      42.87     31.84     27.09     65.30     75.85      24.14     33.05  \n",
       "1      42.84     31.96     27.46     64.55     75.65      24.21     33.26  \n",
       "2      42.87     31.84     27.95     64.75     75.44      24.49     33.74  \n",
       "3      43.08     32.00     28.26     64.41     76.00      24.74     33.55  \n",
       "4      42.91     32.12     28.47     63.89     76.34      24.63     33.27  \n",
       "\n",
       "[5 rows x 483 columns]"
      ]
     },
     "execution_count": 50,
     "metadata": {},
     "output_type": "execute_result"
    }
   ],
   "source": [
    "data.head()"
   ]
  },
  {
   "cell_type": "code",
   "execution_count": 65,
   "id": "0bfe68ab",
   "metadata": {},
   "outputs": [],
   "source": [
    "# Now I have S&P 500 stock data . We can do PCA on this data as columns are all numerical continuous variables"
   ]
  },
  {
   "cell_type": "code",
   "execution_count": 66,
   "id": "bcc104f1",
   "metadata": {},
   "outputs": [
    {
     "data": {
      "text/plain": [
       "AAL_data      35.859285\n",
       "AAPL_data     97.205088\n",
       "AAP_data     136.052400\n",
       "ABBV_data     56.099090\n",
       "ABC_data      80.690740\n",
       "                ...    \n",
       "XYL_data      36.941690\n",
       "YUM_data      75.843810\n",
       "ZBH_data     101.981540\n",
       "ZION_data     28.795324\n",
       "ZTS_data      40.432948\n",
       "Length: 483, dtype: float64"
      ]
     },
     "execution_count": 66,
     "metadata": {},
     "output_type": "execute_result"
    }
   ],
   "source": [
    "# Step -1 : Make mean of all columns zero \n",
    "data.mean()"
   ]
  },
  {
   "cell_type": "code",
   "execution_count": 68,
   "id": "ff7f1cc3",
   "metadata": {},
   "outputs": [],
   "source": [
    "data = data - data.mean()"
   ]
  },
  {
   "cell_type": "code",
   "execution_count": 72,
   "id": "6b29a541",
   "metadata": {},
   "outputs": [],
   "source": [
    "X = data.values"
   ]
  },
  {
   "cell_type": "code",
   "execution_count": 79,
   "id": "1589201a",
   "metadata": {},
   "outputs": [],
   "source": [
    "A = (X.T@X)"
   ]
  },
  {
   "cell_type": "code",
   "execution_count": 115,
   "id": "5c2dff7a",
   "metadata": {},
   "outputs": [],
   "source": [
    "# transformation vector which give highest variance projection is actually the eigne vector corresponding to maximum eigen \n",
    "# value of matrix A = X.T * X\n",
    "\n",
    "eigen_values, eigen_vectors = np.linalg.eig(A)\n",
    "zipped_ = sorted(zip(eigen_values,eigen_vectors), reverse=True)\n",
    "eigen_vectors = np.array([ x for _, x in zipped_ ]).T\n",
    "variances = np.array([ y for y,_ in zipped_])\n",
    "variances = variances/sum(variances)"
   ]
  },
  {
   "cell_type": "code",
   "execution_count": 123,
   "id": "ea89b073",
   "metadata": {},
   "outputs": [
    {
     "data": {
      "text/plain": [
       "<BarContainer object of 5 artists>"
      ]
     },
     "execution_count": 123,
     "metadata": {},
     "output_type": "execute_result"
    },
    {
     "data": {
      "image/png": "[encoded data removed]",
      "text/plain": [
       "<Figure size 432x288 with 1 Axes>"
      ]
     },
     "metadata": {
      "needs_background": "light"
     },
     "output_type": "display_data"
    }
   ],
   "source": [
    "plt.bar(range(len(variances))[:5],variances[:5])"
   ]
  },
  {
   "cell_type": "code",
   "execution_count": 124,
   "id": "5b510da2",
   "metadata": {},
   "outputs": [
    {
     "data": {
      "text/plain": [
       "0.9557978552947868"
      ]
     },
     "execution_count": 124,
     "metadata": {},
     "output_type": "execute_result"
    }
   ],
   "source": [
    "sum(variances[:5])"
   ]
  },
  {
   "cell_type": "code",
   "execution_count": 129,
   "id": "34a44695",
   "metadata": {},
   "outputs": [],
   "source": [
    "# First five principal components can summarize ~96% variance of data. Pretty cool . 5 times BAM!!!"
   ]
  },
  {
   "cell_type": "code",
   "execution_count": null,
   "id": "f8a512e1",
   "metadata": {},
   "outputs": [],
   "source": []
  }
 ],
 "metadata": {
  "kernelspec": {
   "display_name": "Python 3 (ipykernel)",
   "language": "python",
   "name": "python3"
  },
  "language_info": {
   "codemirror_mode": {
    "name": "ipython",
    "version": 3
   },
   "file_extension": ".py",
   "mimetype": "text/x-python",
   "name": "python",
   "nbconvert_exporter": "python",
   "pygments_lexer": "ipython3",
   "version": "3.9.7"
  }
 },
 "nbformat": 4,
 "nbformat_minor": 5
}
