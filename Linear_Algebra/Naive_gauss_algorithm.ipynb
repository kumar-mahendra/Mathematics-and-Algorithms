{
  "nbformat": 4,
  "nbformat_minor": 0,
  "metadata": {
    "colab": {
      "name": "Naive_Gauss_method.ipynb",
      "provenance": [],
      "collapsed_sections": [],
      "toc_visible": true,
      "mount_file_id": "1toB9rQZQ6zAwCIyff-zzhNat0G0wp8Uv",
      "authorship_tag": "ABX9TyOl518bMfxyw2z6JZt+sj72",
      "include_colab_link": true
    },
    "kernelspec": {
      "name": "python3",
      "display_name": "Python 3"
    }
  },
  "cells": [
    {
      "cell_type": "markdown",
      "metadata": {
        "id": "view-in-github",
        "colab_type": "text"
      },
      "source": [
        "<a href=\"https://colab.research.google.com/github/kumar-mahendra/Mathematics_of_Scientific_Computing/blob/main/Linear_systems/Naive_Gauss_method.ipynb\" target=\"_parent\"><img src=\"https://colab.research.google.com/assets/colab-badge.svg\" alt=\"Open In Colab\"/></a>"
      ]
    },
    {
      "cell_type": "markdown",
      "metadata": {
        "id": "YwIeJVwduCTG"
      },
      "source": [
        "## Naive Gaussian Elimination"
      ]
    },
    {
      "cell_type": "markdown",
      "metadata": {
        "id": "Mu4RoLaVwBL1"
      },
      "source": [
        "\r\n",
        "**Naive Gaussian Elimination process** is  simple algorithm to solve a system of linear equations. <br/>\r\n",
        " This code includes : <br/>\r\n",
        " 1)  Code implementation of Naive Gaussian Elimination process <br/>\r\n",
        " 2)  A few examples<br/>\r\n",
        " 3)  You will see throgh example that this method fails in case of [ill_conditioned matirx](https://mathworld.wolfram.com/Ill-ConditionedMatrix.html) like Vandermonde_matrix\r\n"
      ]
    },
    {
      "cell_type": "markdown",
      "metadata": {
        "id": "GT1py3oUw5Bt"
      },
      "source": [
        "### Code Implimentation"
      ]
    },
    {
      "cell_type": "code",
      "metadata": {
        "id": "ZWQCn5Z-w9QU"
      },
      "source": [
        "# A is a square matrix of shape nxn \r\n",
        "# n = order of matrix A \r\n",
        "# X = [x1,x2,...,xn]^T , vector denoting solution of equaltion AX = b\r\n",
        "# b is a 1 x n vector \r\n",
        "\r\n",
        "\r\n",
        "def Naive_Gauss(n,matrix_A,b,precision=-1):\r\n",
        "\r\n",
        "  # First check if all the diagonal elements are non-zero otherwise we can't use Naive_Gauss Method\r\n",
        "  invalid_matrix = False\r\n",
        "  for i in range(n):\r\n",
        "    if matrix_A[i][i] == 0 :\r\n",
        "      invalid_matrix = True \r\n",
        "      break \r\n",
        "  if (invalid_matrix) :\r\n",
        "    return matrix_A,b,False\r\n",
        "\r\n",
        "  for k in range(n-1):\r\n",
        "    for i in range(k+1,n):\r\n",
        "      if (precision == -1):\r\n",
        "        multi = matrix_A[i][k]/matrix_A[k][k]\r\n",
        "      else :\r\n",
        "        multi = round( matrix_A[i][k]/matrix_A[k][k],precision)\r\n",
        "      for j in range(k,n):\r\n",
        "        if(precision == -1):\r\n",
        "          matrix_A[i][j] = matrix_A[i][j] - multi*matrix_A[k][j] \r\n",
        "        else :\r\n",
        "          matrix_A[i][j] = round(matrix_A[i][j] - round(multi*matrix_A[k][j],precision),precision)\r\n",
        "\r\n",
        "      # updating RHS of AX = b\r\n",
        "      if (precision == -1):  \r\n",
        "        b[i] = b[i] - multi*b[k]\r\n",
        "      else :\r\n",
        "        b[i] = round(b[i] - round(multi*b[k],precision),precision)\r\n",
        "      #### Info - You can skip it if you want\r\n",
        "\r\n",
        "      # We can also run j from k+1 to n , as matrix_A[i][k] will become zero in this operation so we can exclude that calculation here .\r\n",
        "      #later in Matrix Factorization you will see we will need that \"multi\" variable value so there we will store it in place of matrix_A[i][k] to make use of \r\n",
        "      #memory which is just holding zero without any purpose.\r\n",
        "\r\n",
        "  #Now matrix_A is a Upper triangular matrix so we will return it \r\n",
        "  return matrix_A,b,True\r\n",
        "\r\n"
      ],
      "execution_count": null,
      "outputs": []
    },
    {
      "cell_type": "code",
      "metadata": {
        "id": "dKejIelN1iHa"
      },
      "source": [
        "# Solving System of equation \r\n",
        "\r\n",
        "def solve_linear_system(n,matrix_A,b,precision=-1):\r\n",
        " \r\n",
        "  \r\n",
        "  #first check if precision is not passed(i.e. precision == -1 ) or not .\r\n",
        "  if (precision != -1):\r\n",
        "   for i in range(n):\r\n",
        "     for j in range(n):\r\n",
        "       matrix_A[i][j] = round(matrix_A[i][j],int(precision)) \r\n",
        "  matrix_A,b,is_solvable = Naive_Gauss(n,matrix_A,b,int(precision))\r\n",
        "\r\n",
        "  #Now since matrix_A has changed then lets check again if any of diagonal member is zero or not\r\n",
        "  for i in range(n):\r\n",
        "    if matrix_A[i][i] == 0 :\r\n",
        "      is_solvable = False \r\n",
        "\r\n",
        "  #Here we will replace value of vector b s.t. at the end, vector b will be our solution vector(this is done just to reduce space complexity)\r\n",
        "\r\n",
        "  if(is_solvable): \r\n",
        "    #Back_propagation to get solution of system of linear equations\r\n",
        "\r\n",
        "    if(precision == -1):\r\n",
        "      b[n-1] = b[n-1]/matrix_A[n-1][n-1]\r\n",
        "    else : \r\n",
        "      b[n-1] = round(b[n-1]/matrix_A[n-1][n-1],precision)\r\n",
        "    for i in range(n-2,-1,-1):\r\n",
        "      if(precision == -1):\r\n",
        "        sum = b[i]\r\n",
        "      else:\r\n",
        "        sum = round(b[i],precision)\r\n",
        "      for j in range(i+1,n):\r\n",
        "        if (precision == -1):\r\n",
        "          sum = sum - matrix_A[i][j]*b[j]\r\n",
        "        else : \r\n",
        "          sum = sum - round(matrix_A[i][j]*b[j],precision)\r\n",
        "      if(precision == -1):\r\n",
        "        b[i] = sum/matrix_A[i][i]\r\n",
        "      else:\r\n",
        "        b[i] = round(sum/matrix_A[i][i],precision)\r\n",
        "    return b\r\n",
        "  \r\n",
        "  else : \r\n",
        "    print(\"ERROR : At some point in Gaussian process division by zero happened. Can't be solved using Naive_Gaussian_Elimination method\")\r\n",
        "    return False\r\n",
        "\r\n",
        "\r\n"
      ],
      "execution_count": null,
      "outputs": []
    },
    {
      "cell_type": "markdown",
      "metadata": {
        "id": "4JRDgUmi_HM5"
      },
      "source": [
        "#### Example 1\r\n",
        "![Example 1](https://drive.google.com/uc?export=view&id=1ZU05OMzy3ZDvchH5LIa9N0Z4hFeOuX8e)\r\n"
      ]
    },
    {
      "cell_type": "code",
      "metadata": {
        "id": "jjJ8EZAZ_zBU"
      },
      "source": [
        "#So first create the matrix for the same . We will see how accracte results are as we increase n from n=4 to n=10\r\n",
        "\r\n",
        "def calculate_matrix(n):\r\n",
        "    matrix = [[0]*n for i in range(n)]\r\n",
        "    b = [0 for i in range(n)]\r\n",
        "    for i in range(1,n+1):\r\n",
        "      for j in range(1,n+1):\r\n",
        "        matrix[i-1][j-1] = float((1+i)**(j-1))\r\n",
        "      b[i-1] = float((i+1)**n-1)/float(i)\r\n",
        "    return matrix,b\r\n",
        "\r\n",
        "def calculate_error(n,res):\r\n",
        "  true_res = [1 for i in range(n)]\r\n",
        "\r\n",
        "  #we will calculate least squre error\r\n",
        "  error = 0\r\n",
        "  for i in range(n):\r\n",
        "    error += (true_res[i]-res[i])**2\r\n",
        "  return round(error*100,2)\r\n",
        "\r\n",
        "N = [n for n in range(4,25)] #take n in range(4 to 10) \r\n",
        "\r\n",
        "#Since in this example we know the true solution i.e all coffiecients are 1  so we can calculate the percentage error\r\n",
        "#between solution obtained from naive_gaussian elimination and true solution\r\n",
        "percentage_errors = []\r\n",
        "\r\n",
        "for n in N : \r\n",
        "  matrix_A,b = calculate_matrix(n)\r\n",
        "  res = solve_linear_system(n,matrix_A,b)\r\n",
        "  if (res !=False):\r\n",
        "    error = calculate_error(n,res)\r\n",
        "  percentage_errors.append((n,error))\r\n"
      ],
      "execution_count": null,
      "outputs": []
    },
    {
      "cell_type": "code",
      "metadata": {
        "colab": {
          "base_uri": "https://localhost:8080/"
        },
        "id": "mLA-lVZIDZJ1",
        "outputId": "058dbaa2-da5a-4241-ec0e-0865f8921f67"
      },
      "source": [
        "#Just see the sudden change  you will realise the instability of this system of equations\r\n",
        "for x in percentage_errors:\r\n",
        "  print(\"n = {}: error(%) : {} \".format(x[0],x[1]))"
      ],
      "execution_count": null,
      "outputs": [
        {
          "output_type": "stream",
          "text": [
            "n = 4: error(%) : 0.0 \n",
            "n = 5: error(%) : 0.0 \n",
            "n = 6: error(%) : 0.0 \n",
            "n = 7: error(%) : 0.0 \n",
            "n = 8: error(%) : 0.0 \n",
            "n = 9: error(%) : 0.0 \n",
            "n = 10: error(%) : 0.0 \n",
            "n = 11: error(%) : 0.0 \n",
            "n = 12: error(%) : 0.0 \n",
            "n = 13: error(%) : 0.0 \n",
            "n = 14: error(%) : 774910.68 \n",
            "n = 15: error(%) : 8649437017.39 \n",
            "n = 16: error(%) : 5168227875741.7 \n",
            "n = 17: error(%) : 1.3913776478408088e+17 \n",
            "n = 18: error(%) : 1.3786203748475958e+20 \n",
            "n = 19: error(%) : 3.6046947117215826e+25 \n",
            "n = 20: error(%) : 1.1198436209633146e+29 \n",
            "n = 21: error(%) : 4.854657142084503e+32 \n",
            "n = 22: error(%) : 4.998934456058085e+37 \n",
            "n = 23: error(%) : 1.1152187030272222e+41 \n",
            "n = 24: error(%) : 4.0492069297536994e+42 \n"
          ],
          "name": "stdout"
        }
      ]
    },
    {
      "cell_type": "markdown",
      "metadata": {
        "id": "bQVSAHA_L65u"
      },
      "source": [
        "##### Thats a big  and sudden jump !!! phww.... It happens because from n>=14 system is a ill-conditioned system."
      ]
    },
    {
      "cell_type": "code",
      "metadata": {
        "id": "cLrYnQBsv3pE"
      },
      "source": [
        "# Easy Exam Tool :) find if this method can solve linear system of equations in seconds !!\r\n",
        "#User Input of matrix \r\n",
        "#matrix is 3 x 3 s.t. A=(a_ij) , b=(bi) \r\n",
        "\r\n",
        "def enter_matrix():\r\n",
        "  print(\"Enter order of matrix :\")\r\n",
        "  n = int(input())\r\n",
        "  print(\"Enter the matrix cofficients : \")\r\n",
        "  matrix = [[0]*n for i in range(n)]\r\n",
        "  b = [0 for j in range(n)]\r\n",
        "  for i in range(n):\r\n",
        "      x= [float(eval(x)) for x in input().split()]\r\n",
        "      matrix[i][:] =  x[:-1]\r\n",
        "      b[i] = x[-1]\r\n",
        "  return matrix,b\r\n"
      ],
      "execution_count": null,
      "outputs": []
    },
    {
      "cell_type": "code",
      "metadata": {
        "colab": {
          "base_uri": "https://localhost:8080/"
        },
        "id": "cMRncJN_8PKt",
        "outputId": "e5d279fb-08b2-4785-fad1-d42132bd4e43"
      },
      "source": [
        "matrix,b = enter_matrix()\r\n",
        "print(\"Matrix is : \\n \",matrix)\r\n",
        "\r\n",
        "print(\"\\n Answer:\\n\")\r\n",
        "n = len(b)\r\n",
        "solve_linear_system(n,matrix,b,3)  #precision is passed as 3 , but it is optional if you don't want that remove it simple :)"
      ],
      "execution_count": null,
      "outputs": [
        {
          "output_type": "stream",
          "text": [
            "Enter order of matrix :\n",
            "4\n",
            "Enter the matrix cofficients : \n",
            "1 3 2 1 -2\n",
            "4 2 1 2 2\n",
            "2 1 2 3 1\n",
            "1 2 4 1 -1\n",
            "[[1.0, 3.0, 2.0, 1.0], [4.0, 2.0, 1.0, 2.0], [2.0, 1.0, 2.0, 3.0], [1.0, 2.0, 4.0, 1.0]]\n",
            "Answer:\n",
            "\n"
          ],
          "name": "stdout"
        },
        {
          "output_type": "execute_result",
          "data": {
            "text/plain": [
              "[1.0, -1.0, 0.0, -0.0]"
            ]
          },
          "metadata": {
            "tags": []
          },
          "execution_count": 192
        }
      ]
    },
    {
      "cell_type": "code",
      "metadata": {
        "id": "Wt8XlyWx8XZZ"
      },
      "source": [
        "# So create your own examples or take from books to check the program.\r\n",
        "\r\n",
        "# If you found any bug , kindly let me know \r\n",
        "\r\n",
        "# Author - kumar_mahendra , (1903209)"
      ],
      "execution_count": null,
      "outputs": []
    }
  ]
}
