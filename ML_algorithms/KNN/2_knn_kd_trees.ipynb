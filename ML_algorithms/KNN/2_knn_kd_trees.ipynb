{
  "nbformat": 4,
  "nbformat_minor": 0,
  "metadata": {
    "colab": {
      "name": "KNN_KD_Trees.ipynb",
      "provenance": [],
      "collapsed_sections": [],
      "authorship_tag": "ABX9TyNeC4Oh6aTF/l+1veRO+buA",
      "include_colab_link": true
    },
    "kernelspec": {
      "name": "python3",
      "display_name": "Python 3"
    },
    "language_info": {
      "name": "python"
    }
  },
  "cells": [
    {
      "cell_type": "markdown",
      "metadata": {
        "id": "view-in-github",
        "colab_type": "text"
      },
      "source": [
        "<a href=\"https://colab.research.google.com/github/kumar-mahendra/ML_Algorithms/blob/main/KNN_KD_Trees.ipynb\" target=\"_parent\"><img src=\"https://colab.research.google.com/assets/colab-badge.svg\" alt=\"Open In Colab\"/></a>"
      ]
    },
    {
      "cell_type": "markdown",
      "metadata": {
        "id": "figyw3ly5KPs"
      },
      "source": [
        "### Algorithm : KNN-KD-tree building (KNNKDTB) <br>\n",
        "- <b>Input</b>: P, a set of training points; depth, the current depth\n",
        "- <b>Output</b>: treeroot, the root of the KD-tree storing P\n",
        "1. `Treeroot` <-- root(P)\n",
        "2. `While` (P != null)\n",
        "3.  ... select axis = depth <b>mod</b> k\n",
        "4.  ... sort P and select median by axis from P\n",
        "5.  ... root.location median\n",
        "6.  ... root.leftChild  KNNKDTB(points in P before median, depth+1)\n",
        "7.  ... root.rightChild  KNNKDTB(points in P after median, depth+1)\n",
        "8. `End while`\n",
        "9. `Output` - treeroot"
      ]
    },
    {
      "cell_type": "code",
      "metadata": {
        "colab": {
          "base_uri": "https://localhost:8080/"
        },
        "id": "azA-BV2rA3Zc",
        "outputId": "7d862d76-6e20-49e9-b298-4ead20b49253"
      },
      "source": [
        "# Implementation of KD Tree \n",
        "\n",
        "\n",
        "# import required libraries \n",
        "import matplotlib.pyplot as plt\n",
        "import pandas as pd\n",
        "import numpy as np\n",
        "\n",
        "\n",
        "# Class to build KD Tree   \n",
        "\n",
        "class Root:\n",
        "  def __init__(self,P,axis=0, k=-1):   # k = -1 suggests select all dimensions, Using Top down approach start from axis = 0 till axis = #classes/features\n",
        "\n",
        "    self.axis = axis   # current axis\n",
        "    self.arr = P\n",
        "    # Base Case : P == NULL or current_axis==k (if k is provided)\n",
        "    if ((axis == len(P[0])) or (axis == k)) :   \n",
        "      self.axis = -1\n",
        "      return None   \n",
        "  \n",
        "    P = np.array(sorted( P , key = lambda x : x[axis]))   # sort P by current axis\n",
        "    self.median = P[ len(P)//2 ]                          # select median by current axis\n",
        "\n",
        "    self.median_idx = np.where( (P==self.median).any(axis=1)==True )[0][0]\n",
        "    self.leftChild = P[ np.where((P[:,axis]) <  P [ self.median_idx,axis ])]   # left Child\n",
        "    self.rightChild = P[ np.where((P[:,axis]) >= P[ self.median_idx,axis ])]   # right Child \n",
        "    self.leftChildRoot =  Root(self.leftChild,axis+1)                          # root of left Child\n",
        "    self.rightChildRoot = Root(self.rightChild ,axis+1)                        # root of right Child   \n",
        "\n",
        "\n",
        "def traverseKD_Tree(A,depth):\n",
        "  \n",
        "  if A.axis == -1 :\n",
        "    return\n",
        "\n",
        "  print(\"\\n root        <-- \",A.median,\"\\n left_Child  <-- \",*A.Left,\"\\n right_Child <-- \" ,*A.Right)    \n",
        "  \n",
        "  depth+=1\n",
        "  traverseKD_Tree(A.leftChild,depth)\n",
        "  traverseKD_Tree(A.rightChild,depth)\n",
        "\n",
        "# Find neighbors of x \n",
        "def KD_Neighbors(P,x):\n",
        "  if P.axis == -1 :\n",
        "    return P.arr\n",
        "  if x[P.axis]>= P.arr[ P.median_idx, P.axis] :\n",
        "    return KD_Neighbors(P.rightChildRoot,x)\n",
        "  else : \n",
        "    return KD_Neighbors(P.leftChildRoot,x)\n",
        "\n",
        "# apply KNN algorithm on just neighbors found in KD_Tree \n",
        "\n",
        "def KNN_KDTree(train,test_set):\n",
        "\n",
        "    P = Root(train)\n",
        "    label = []\n",
        "\n",
        "    for x in test_set : \n",
        "        neighbors = KD_Neighbors(P,x)\n",
        "        index = df_.index\n",
        "        nbrs_index = []\n",
        "        ch = np.array([0 for _ in range(df.loc[:,'y'].nunique())])  # array to contain occurence of each class in neighbors \n",
        "        for nbr in neighbors : \n",
        "            ch[df_.iloc[index[(df_.iloc[:,:2] == nbr).any(axis=1)][0],2]] += 1\n",
        "            \n",
        "        # print(ch)\n",
        "\n",
        "        label.append(np.where(ch==max(ch))[0][0])   # index of maximum occuring element \n",
        "    \n",
        "    return label\n",
        "\n",
        "\n",
        "P = np.array([(1,9),(2,3),(4,1),(3,7),(5,4),(6,8),(7,2),(8,8),(7,9),(9,6)])\n",
        "labels = np.array([0,1,1,0,1,1,1,1,0,0])\n",
        "Treeroot = Root(P)\n",
        "\n",
        "# Print KD_Tree\n",
        "traverseKD_Tree(A,0)\n",
        "\n"
      ],
      "execution_count": 315,
      "outputs": [
        {
          "output_type": "stream",
          "text": [
            "\n",
            " root        <--  [6 8] \n",
            " left_Child  <--  [1 9] [2 3] [3 7] [4 1] [5 4] \n",
            " right_Child <--  [6 8] [7 2] [7 9] [8 8] [9 6]\n",
            "\n",
            " root        <--  [5 4] \n",
            " left_Child  <--  [4 1] [2 3] \n",
            " right_Child <--  [5 4] [3 7] [1 9]\n",
            "\n",
            " root        <--  [6 8] \n",
            " left_Child  <--  [7 2] [9 6] \n",
            " right_Child <--  [6 8] [8 8] [7 9]\n"
          ],
          "name": "stdout"
        }
      ]
    },
    {
      "cell_type": "code",
      "metadata": {
        "colab": {
          "base_uri": "https://localhost:8080/",
          "height": 296
        },
        "id": "kEp3VKYMXqSB",
        "outputId": "57726879-b026-4900-dfd8-019e639eb9ad"
      },
      "source": [
        "# Vizualise Data \n",
        "\n",
        "# make pandas dataframe\n",
        "table = np.array([P[:,0],P[:,1],labels]).T\n",
        "df = pd.DataFrame(data=table,columns=['x1','x2','y'])\n",
        "\n",
        "P_new = np.array([(3,2),(2,8),(5,6),(1,9)])\n",
        "labels_new = np.array([-1,-1,-1,-1])\n",
        "table = np.array([P_new[:,0],P_new[:,1],labels_new]).T\n",
        "df_new = pd.DataFrame(data=table,columns=['x1','x2','y'])\n",
        "\n",
        "\n",
        "df_ = pd.concat([df,df_new],axis=0)\n",
        "\n",
        "\n",
        "sns.scatterplot(data= df_,x='x1',y='x2',hue='y',palette='deep')\n",
        "\n"
      ],
      "execution_count": 316,
      "outputs": [
        {
          "output_type": "execute_result",
          "data": {
            "text/plain": [
              "<matplotlib.axes._subplots.AxesSubplot at 0x7f22b146f2d0>"
            ]
          },
          "metadata": {
            "tags": []
          },
          "execution_count": 316
        },
        {
          "output_type": "display_data",
          "data": {
            "image/png": "[encoded data removed]",
            "text/plain": [
              "<Figure size 432x288 with 1 Axes>"
            ]
          },
          "metadata": {
            "tags": [],
            "needs_background": "light"
          }
        }
      ]
    },
    {
      "cell_type": "code",
      "metadata": {
        "colab": {
          "base_uri": "https://localhost:8080/"
        },
        "id": "aFWHRYSUD3ft",
        "outputId": "a8622854-16aa-464c-823a-8e4ff0e34116"
      },
      "source": [
        "# expected_output : [1,0,1,0]\n",
        "\n",
        "P = np.array([(1,9),(2,3),(4,1),(3,7),(5,4),(6,8),(7,2),(8,8),(7,9),(9,6)])\n",
        "labels = np.array([0,1,1,0,1,1,1,1,0,0])\n",
        "test_set = np.array([(3,2),(2,8),(5,6),(1,9)])\n",
        "test_labels = KNN_KDTree(P,test_set)\n",
        "print(\" prediction : \",test_labels)\n",
        "\n",
        "#predicted output : [1,0,1,0]\n"
      ],
      "execution_count": 317,
      "outputs": [
        {
          "output_type": "stream",
          "text": [
            "[0 2]\n",
            "[2 1]\n",
            "[0 2]\n",
            "[2 1]\n",
            "[1, 0, 1, 0]\n"
          ],
          "name": "stdout"
        }
      ]
    },
    {
      "cell_type": "code",
      "metadata": {
        "id": "L3ERjSK8KLid"
      },
      "source": [
        ""
      ],
      "execution_count": null,
      "outputs": []
    }
  ]
}