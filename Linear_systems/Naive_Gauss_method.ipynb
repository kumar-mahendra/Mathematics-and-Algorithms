{
  "nbformat": 4,
  "nbformat_minor": 0,
  "metadata": {
    "colab": {
      "name": "Naive_Gauss_method.ipynb",
      "provenance": [],
      "collapsed_sections": [],
      "toc_visible": true
    },
    "kernelspec": {
      "name": "python3",
      "display_name": "Python 3"
    }
  },
  "cells": [
    {
      "cell_type": "markdown",
      "metadata": {
        "id": "YwIeJVwduCTG"
      },
      "source": [
        "## Naive Gaussian Elimination"
      ]
    },
    {
      "cell_type": "markdown",
      "metadata": {
        "id": "Mu4RoLaVwBL1"
      },
      "source": [
        "\r\n",
        "**Naive Gaussian Elimination process** is  simple algorithm to solve a system of linear equations. <br/>\r\n",
        " This code includes : <br/>\r\n",
        " 1)  Code implementation of Naive Gaussian Elimination process <br/>\r\n",
        " 2)  A few examples<br/>\r\n",
        " 3)  You will see throgh example that this method fails in case of [ill_conditioned matirx](https://mathworld.wolfram.com/Ill-ConditionedMatrix.html) like Vandermonde_matrix\r\n"
      ]
    },
    {
      "cell_type": "markdown",
      "metadata": {
        "id": "GT1py3oUw5Bt"
      },
      "source": [
        "### Code Implimentation"
      ]
    },
    {
      "cell_type": "code",
      "metadata": {
        "id": "ZWQCn5Z-w9QU"
      },
      "source": [
        "# A is a square matrix of shape nxn \r\n",
        "# n = order of matrix A \r\n",
        "# X = [x1,x2,...,xn]^T , vector denoting solution of equaltion AX = b\r\n",
        "# b is a 1 x n vector \r\n",
        "\r\n",
        "\r\n",
        "def Naive_Gauss(n,matrix_A,b):\r\n",
        "\r\n",
        "  # First check if all the diagonal elements are non-zero otherwise we can't use Naive_Gauss Method\r\n",
        "  invalid_matrix = False\r\n",
        "  for i in range(n):\r\n",
        "    if matrix_A[i][i] == 0 :\r\n",
        "      invalid_matrix = True \r\n",
        "      break \r\n",
        "  if (invalid_matrix) :\r\n",
        "    return matrix_A,b,False\r\n",
        "\r\n",
        "  for k in range(n-1):\r\n",
        "    for i in range(k+1,n):\r\n",
        "      multi = matrix_A[i][k]/matrix_A[k][k]\r\n",
        "      for j in range(k,n):\r\n",
        "        matrix_A[i][j] = matrix_A[i][j] - multi*matrix_A[k][j] \r\n",
        "      \r\n",
        "      # updating RHS of AX = b \r\n",
        "      b[i] = b[i] - multi*b[k]\r\n",
        "\r\n",
        "      #### Info - You can skip it if you want\r\n",
        "\r\n",
        "      # We can also run j from k+1 to n , as matrix_A[i][k] will become zero in this operation so we can exclude that calculation here .\r\n",
        "      #later in Matrix Factorization you will see we will need that \"multi\" variable value so there we will store it in place of matrix_A[i][k] to make use of \r\n",
        "      #memory which is just holding zero without any purpose.\r\n",
        "\r\n",
        "  #Now matrix_A is a Upper triangular matrix so we will return it \r\n",
        "  return matrix_A,b,True\r\n",
        "\r\n"
      ],
      "execution_count": 12,
      "outputs": []
    },
    {
      "cell_type": "code",
      "metadata": {
        "id": "dKejIelN1iHa"
      },
      "source": [
        "# Solving System of equation \r\n",
        "\r\n",
        "def solve_linear_system(n,matrix_A,b):\r\n",
        "\r\n",
        "  matrix_A,b,is_solvable = Naive_Gauss(n,matrix_A,b)\r\n",
        "\r\n",
        "  #Here we will replace value of vector b s.t. at the end, vector b will be our solution vector(this is done just to reduce space complexity)\r\n",
        "\r\n",
        "  if(is_solvable): \r\n",
        "\r\n",
        "    #Back_propagation to get solution of system of linear equations\r\n",
        "\r\n",
        "    b[n-1] = b[n-1]/matrix_A[n-1][n-1]\r\n",
        "\r\n",
        "    for i in range(n-2,-1,-1):\r\n",
        "      sum = b[i]\r\n",
        "      for j in range(i+1,n):\r\n",
        "        sum = sum - matrix_A[i][j]\r\n",
        "      b[i] = sum/matrix_A[i][i]\r\n",
        "    \r\n",
        "    return b\r\n",
        "\r\n",
        "  else : \r\n",
        "    print(\"System cannot be solved using Naive Gaussian Elimination as one or more diagonal entries are zero!!\")\r\n",
        "    return False\r\n",
        "\r\n"
      ],
      "execution_count": 13,
      "outputs": []
    },
    {
      "cell_type": "markdown",
      "metadata": {
        "id": "4JRDgUmi_HM5"
      },
      "source": [
        "#### Example 1\r\n",
        "![Example 1](https://drive.google.com/uc?export=view&id=1ZU05OMzy3ZDvchH5LIa9N0Z4hFeOuX8e)\r\n"
      ]
    },
    {
      "cell_type": "code",
      "metadata": {
        "id": "jjJ8EZAZ_zBU"
      },
      "source": [
        "#So first create the matrix for the same . We will see how accracte results are as we increase n from n=4 to n=10\r\n",
        "\r\n",
        "def calculate_matrix(n):\r\n",
        "    matrix = [[0]*n for i in range(n)]\r\n",
        "    b = [0 for i in range(n)]\r\n",
        "    for i in range(1,n+1):\r\n",
        "      for j in range(1,n+1):\r\n",
        "        matrix[i-1][j-1] = float((1+i)**(j-1))\r\n",
        "      b[i-1] = float((i+1)**n-1)/float(i)\r\n",
        "    return matrix,b\r\n",
        "\r\n",
        "def calculate_error(n,res):\r\n",
        "  true_res = [1 for i in range(n)]\r\n",
        "\r\n",
        "  #we will calculate least squre error\r\n",
        "  error = 0\r\n",
        "  for i in range(n):\r\n",
        "    error += (true_res[i]-res[i])**2\r\n",
        "  return round(error*100,2)\r\n",
        "\r\n",
        "N = [n for n in range(4,25)] #take n in range(4 to 10) \r\n",
        "\r\n",
        "#Since in this example we know the true solution i.e all coffiecients are 1  so we can calculate the percentage error\r\n",
        "#between solution obtained from naive_gaussian elimination and true solution\r\n",
        "percentage_errors = []\r\n",
        "\r\n",
        "for n in N : \r\n",
        "  matrix_A,b = calculate_matrix(n)\r\n",
        "  res = solve_linear_system(n,matrix_A,b)\r\n",
        "  if (res !=False):\r\n",
        "    error = calculate_error(n,res)\r\n",
        "  percentage_errors.append((n,error))\r\n",
        "\r\n",
        "\r\n",
        "  \r\n",
        "  \r\n",
        "\r\n",
        "\r\n"
      ],
      "execution_count": 46,
      "outputs": []
    },
    {
      "cell_type": "code",
      "metadata": {
        "colab": {
          "base_uri": "https://localhost:8080/"
        },
        "id": "4hFZ1bbXLIHZ",
        "outputId": "3699586b-25be-4ff4-f920-b0a15e0ce519"
      },
      "source": [
        "percentage_errors"
      ],
      "execution_count": 47,
      "outputs": [
        {
          "output_type": "execute_result",
          "data": {
            "text/plain": [
              "[(4, 0.0),\n",
              " (5, 0.0),\n",
              " (6, 0.0),\n",
              " (7, 0.0),\n",
              " (8, 0.0),\n",
              " (9, 0.0),\n",
              " (10, 0.0),\n",
              " (11, 0.0),\n",
              " (12, 0.0),\n",
              " (13, 0.0),\n",
              " (14, 0.0),\n",
              " (15, 0.0),\n",
              " (16, 0.0),\n",
              " (17, 0.0),\n",
              " (18, 0.0),\n",
              " (19, 0.0),\n",
              " (20, 1.59),\n",
              " (21, 73.22),\n",
              " (22, 26515.88),\n",
              " (23, 1696472.97),\n",
              " (24, 244116219.62)]"
            ]
          },
          "metadata": {
            "tags": []
          },
          "execution_count": 47
        }
      ]
    },
    {
      "cell_type": "code",
      "metadata": {
        "colab": {
          "base_uri": "https://localhost:8080/"
        },
        "id": "mLA-lVZIDZJ1",
        "outputId": "4a7cf396-f55f-4eee-83d9-72131ec50d8a"
      },
      "source": [
        "#Just see the last five results and you will realise the instability of this system of equations\r\n",
        "for x in percentage_errors:\r\n",
        "  print(\"n = {}: error(%) : {} \".format(x[0],x[1]))"
      ],
      "execution_count": 50,
      "outputs": [
        {
          "output_type": "stream",
          "text": [
            "n = 4: error(%) : 0.0 \n",
            "n = 5: error(%) : 0.0 \n",
            "n = 6: error(%) : 0.0 \n",
            "n = 7: error(%) : 0.0 \n",
            "n = 8: error(%) : 0.0 \n",
            "n = 9: error(%) : 0.0 \n",
            "n = 10: error(%) : 0.0 \n",
            "n = 11: error(%) : 0.0 \n",
            "n = 12: error(%) : 0.0 \n",
            "n = 13: error(%) : 0.0 \n",
            "n = 14: error(%) : 0.0 \n",
            "n = 15: error(%) : 0.0 \n",
            "n = 16: error(%) : 0.0 \n",
            "n = 17: error(%) : 0.0 \n",
            "n = 18: error(%) : 0.0 \n",
            "n = 19: error(%) : 0.0 \n",
            "n = 20: error(%) : 1.59 \n",
            "n = 21: error(%) : 73.22 \n",
            "n = 22: error(%) : 26515.88 \n",
            "n = 23: error(%) : 1696472.97 \n",
            "n = 24: error(%) : 244116219.62 \n"
          ],
          "name": "stdout"
        }
      ]
    },
    {
      "cell_type": "markdown",
      "metadata": {
        "id": "bQVSAHA_L65u"
      },
      "source": [
        "##### Thats a big jump !!! phww.... It happens because at around n>=22 system is a ill-conditioned system."
      ]
    }
  ]
}
